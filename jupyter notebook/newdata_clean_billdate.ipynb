{
 "cells": [
  {
   "cell_type": "code",
   "execution_count": 1,
   "id": "c78c83d6-f540-4cf5-b1e6-0ea505f6f22d",
   "metadata": {},
   "outputs": [],
   "source": [
    "import pandas as pd"
   ]
  },
  {
   "cell_type": "code",
   "execution_count": 2,
   "id": "633c7bc4-070b-4ded-b63a-2b2f02e78ef3",
   "metadata": {},
   "outputs": [],
   "source": [
    "df = pd.read_excel('cleaned_data2.xlsx')"
   ]
  },
  {
   "cell_type": "code",
   "execution_count": 3,
   "id": "5dfc71c9-9242-40dc-935e-e84ac6ad9f2b",
   "metadata": {},
   "outputs": [
    {
     "name": "stdout",
     "output_type": "stream",
     "text": [
      "<class 'pandas.core.frame.DataFrame'>\n",
      "RangeIndex: 29243 entries, 0 to 29242\n",
      "Data columns (total 43 columns):\n",
      " #   Column                    Non-Null Count  Dtype         \n",
      "---  ------                    --------------  -----         \n",
      " 0   Sl_no                     29243 non-null  int64         \n",
      " 1   AR_Category               29243 non-null  object        \n",
      " 2   status                    29243 non-null  object        \n",
      " 3   GK_order_ID_or_AMD_Chart  29243 non-null  int64         \n",
      " 4   Accession                 29084 non-null  object        \n",
      " 5   Patient_id                29243 non-null  int64         \n",
      " 6   Claim_id_or_AMD_Visit     29243 non-null  int64         \n",
      " 7   Patient_Name              29243 non-null  object        \n",
      " 8   DOB                       29088 non-null  datetime64[ns]\n",
      " 9   Payer_Family              29243 non-null  object        \n",
      " 10  Payer                     29243 non-null  object        \n",
      " 11  Date_of_Service           29222 non-null  datetime64[ns]\n",
      " 12  AMD_CPT_Codes             29243 non-null  int64         \n",
      " 13  Billed_amt                29243 non-null  object        \n",
      " 14  Last_Billed_Date          24744 non-null  datetime64[ns]\n",
      " 15  Date_x                    29243 non-null  datetime64[ns]\n",
      " 16  Aging_Days_from_DOS       29243 non-null  object        \n",
      " 17  Aging_Bucket_from_DOS     29243 non-null  object        \n",
      " 18  TFL_Bucket                29243 non-null  object        \n",
      " 19   Paid_Amount              12573 non-null  float64       \n",
      " 20  Balance                   29243 non-null  object        \n",
      " 21  check_no                  10546 non-null  object        \n",
      " 22  Billed_Status             29243 non-null  object        \n",
      " 23  Pay_status                11353 non-null  object        \n",
      " 24  Paid_date                 11359 non-null  datetime64[ns]\n",
      " 25  Claim_status              29243 non-null  object        \n",
      " 26  AR_Status                 29243 non-null  object        \n",
      " 27  Response                  29243 non-null  object        \n",
      " 28  Denial_Category           29243 non-null  object        \n",
      " 29  Medi_Cal_Claims_Remark    4036 non-null   object        \n",
      " 30  GK_Location               29243 non-null  object        \n",
      " 31  Report                    29243 non-null  object        \n",
      " 32  Billed_Amount             873 non-null    float64       \n",
      " 33  Allowed_Amount            410 non-null    float64       \n",
      " 34  Paid_Amount_DEC           869 non-null    float64       \n",
      " 35  Adjustment_Amount         162 non-null    float64       \n",
      " 36  Denied                    162 non-null    float64       \n",
      " 37  Remark_Code               251 non-null    float64       \n",
      " 38  Check_Amount              1 non-null      float64       \n",
      " 39  File_name_or_Remarks      1 non-null      float64       \n",
      " 40  Page                      913 non-null    float64       \n",
      " 41  comments                  0 non-null      float64       \n",
      " 42  names                     3 non-null      object        \n",
      "dtypes: datetime64[ns](5), float64(11), int64(5), object(22)\n",
      "memory usage: 9.6+ MB\n"
     ]
    }
   ],
   "source": [
    "df.info()\n"
   ]
  },
  {
   "cell_type": "code",
   "execution_count": 5,
   "id": "92a0cef4-394d-4d20-9527-c8753da4b0f9",
   "metadata": {},
   "outputs": [],
   "source": [
    "df['Billed_amt'] = df['Billed_amt'].replace('[\\$,()]', '', regex=True).astype(float)\n",
    "df['Balance'] = df['Balance'].replace('[\\$,()]', '', regex=True).astype(float)\n",
    "\n",
    "# Convert values enclosed in parentheses to negative (if not already handled by regex)\n",
    "df['Billed_amt'] = df['Billed_amt'].apply(lambda x: -x if str(x).startswith('(') and x.endswith(')') else x)\n",
    "df['Balance'] = df['Balance'].apply(lambda x: -x if str(x).startswith('(') and x.endswith(')') else x)"
   ]
  },
  {
   "cell_type": "code",
   "execution_count": 6,
   "id": "02527bd3-4fdb-4bc9-8640-d26d9d790e16",
   "metadata": {},
   "outputs": [],
   "source": [
    "# it will save the code related to updated code\n",
    "df.to_excel('cleaned_data3.xlsx', index=False)  # Similar to CSV, index=False avoids saving the index"
   ]
  },
  {
   "cell_type": "code",
   "execution_count": null,
   "id": "a7b387f3-5b73-4c94-8468-0a37331d10ce",
   "metadata": {},
   "outputs": [],
   "source": []
  }
 ],
 "metadata": {
  "kernelspec": {
   "display_name": "Python 3 (ipykernel)",
   "language": "python",
   "name": "python3"
  },
  "language_info": {
   "codemirror_mode": {
    "name": "ipython",
    "version": 3
   },
   "file_extension": ".py",
   "mimetype": "text/x-python",
   "name": "python",
   "nbconvert_exporter": "python",
   "pygments_lexer": "ipython3",
   "version": "3.10.12"
  }
 },
 "nbformat": 4,
 "nbformat_minor": 5
}
